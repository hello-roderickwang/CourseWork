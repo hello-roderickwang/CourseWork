{
 "cells": [
  {
   "cell_type": "code",
   "execution_count": 10,
   "metadata": {},
   "outputs": [
    {
     "ename": "IndexError",
     "evalue": "index 1 is out of bounds for axis 0 with size 1",
     "output_type": "error",
     "traceback": [
      "\u001b[1;31m---------------------------------------------------------------------------\u001b[0m",
      "\u001b[1;31mIndexError\u001b[0m                                Traceback (most recent call last)",
      "\u001b[1;32m<ipython-input-10-e0581281895e>\u001b[0m in \u001b[0;36m<module>\u001b[1;34m\u001b[0m\n\u001b[0;32m     57\u001b[0m     \u001b[0mcurrent\u001b[0m \u001b[1;33m=\u001b[0m \u001b[0mnp\u001b[0m\u001b[1;33m.\u001b[0m\u001b[0mfull\u001b[0m\u001b[1;33m(\u001b[0m\u001b[1;33m(\u001b[0m\u001b[1;36m1\u001b[0m\u001b[1;33m,\u001b[0m \u001b[1;36m20\u001b[0m\u001b[1;33m)\u001b[0m\u001b[1;33m,\u001b[0m \u001b[1;36m3\u001b[0m\u001b[1;33m,\u001b[0m \u001b[0mdtype\u001b[0m \u001b[1;33m=\u001b[0m \u001b[0mint\u001b[0m\u001b[1;33m)\u001b[0m\u001b[1;33m\u001b[0m\u001b[1;33m\u001b[0m\u001b[0m\n\u001b[0;32m     58\u001b[0m     \u001b[0mlif_neuron\u001b[0m \u001b[1;33m=\u001b[0m \u001b[0mLIF_Neuron\u001b[0m\u001b[1;33m(\u001b[0m\u001b[1;33m)\u001b[0m\u001b[1;33m\u001b[0m\u001b[1;33m\u001b[0m\u001b[0m\n\u001b[1;32m---> 59\u001b[1;33m     \u001b[0mlif_neuron\u001b[0m\u001b[1;33m.\u001b[0m\u001b[0mstimulate_neuron\u001b[0m\u001b[1;33m(\u001b[0m\u001b[0mcurrent\u001b[0m\u001b[1;33m,\u001b[0m \u001b[0mtime\u001b[0m\u001b[1;33m)\u001b[0m\u001b[1;33m\u001b[0m\u001b[1;33m\u001b[0m\u001b[0m\n\u001b[0m\u001b[0;32m     60\u001b[0m \u001b[1;33m\u001b[0m\u001b[0m\n\u001b[0;32m     61\u001b[0m \u001b[1;33m\u001b[0m\u001b[0m\n",
      "\u001b[1;32m<ipython-input-10-e0581281895e>\u001b[0m in \u001b[0;36mstimulate_neuron\u001b[1;34m(self, stimulate_input, stimulate_time)\u001b[0m\n\u001b[0;32m     45\u001b[0m             \u001b[0msignal\u001b[0m \u001b[1;33m=\u001b[0m \u001b[1;36m1\u001b[0m\u001b[1;33m\u001b[0m\u001b[1;33m\u001b[0m\u001b[0m\n\u001b[0;32m     46\u001b[0m             \u001b[1;32mfor\u001b[0m \u001b[0msignal\u001b[0m \u001b[1;32min\u001b[0m \u001b[0mrange\u001b[0m\u001b[1;33m(\u001b[0m\u001b[1;36m1\u001b[0m\u001b[1;33m,\u001b[0m \u001b[0mself\u001b[0m\u001b[1;33m.\u001b[0m\u001b[0mspike_time\u001b[0m\u001b[1;33m)\u001b[0m\u001b[1;33m:\u001b[0m\u001b[1;33m\u001b[0m\u001b[1;33m\u001b[0m\u001b[0m\n\u001b[1;32m---> 47\u001b[1;33m                 \u001b[0mself\u001b[0m\u001b[1;33m.\u001b[0m\u001b[0mstimulate_potential\u001b[0m\u001b[1;33m.\u001b[0m\u001b[0mappend\u001b[0m\u001b[1;33m(\u001b[0m\u001b[0mself\u001b[0m\u001b[1;33m.\u001b[0m\u001b[0mrest_potential\u001b[0m \u001b[1;33m+\u001b[0m \u001b[0mself\u001b[0m\u001b[1;33m.\u001b[0m\u001b[0mmembrane_resistance\u001b[0m \u001b[1;33m*\u001b[0m \u001b[0mstimulate_current\u001b[0m\u001b[1;33m[\u001b[0m\u001b[0msignal\u001b[0m\u001b[1;33m]\u001b[0m \u001b[1;33m*\u001b[0m \u001b[1;33m(\u001b[0m \u001b[1;36m1\u001b[0m \u001b[1;33m-\u001b[0m \u001b[0mmath\u001b[0m\u001b[1;33m.\u001b[0m\u001b[0me\u001b[0m \u001b[1;33m^\u001b[0m \u001b[1;33m(\u001b[0m \u001b[1;33m-\u001b[0m\u001b[1;36m1\u001b[0m \u001b[1;33m*\u001b[0m \u001b[0mstimulate_time\u001b[0m \u001b[1;33m)\u001b[0m \u001b[1;33m/\u001b[0m \u001b[1;33m(\u001b[0m \u001b[0mself\u001b[0m\u001b[1;33m.\u001b[0m\u001b[0mmembrane_resistance\u001b[0m \u001b[1;33m*\u001b[0m \u001b[0mself\u001b[0m\u001b[1;33m.\u001b[0m\u001b[0mmemberane_capacity\u001b[0m \u001b[1;33m)\u001b[0m\u001b[1;33m)\u001b[0m\u001b[1;33m)\u001b[0m\u001b[1;33m\u001b[0m\u001b[1;33m\u001b[0m\u001b[0m\n\u001b[0m\u001b[0;32m     48\u001b[0m                 \u001b[1;32mbreak\u001b[0m\u001b[1;33m\u001b[0m\u001b[1;33m\u001b[0m\u001b[0m\n\u001b[0;32m     49\u001b[0m         \u001b[0mprint\u001b[0m\u001b[1;33m(\u001b[0m\u001b[1;34m\"Stimulate current is empty!!!\"\u001b[0m\u001b[1;33m)\u001b[0m\u001b[1;33m\u001b[0m\u001b[1;33m\u001b[0m\u001b[0m\n",
      "\u001b[1;31mIndexError\u001b[0m: index 1 is out of bounds for axis 0 with size 1"
     ]
    }
   ],
   "source": [
    "import numpy as np\n",
    "import matplotlib.pyplot as plt\n",
    "import math\n",
    "\n",
    "\n",
    "class Unit:\n",
    "    def __init__(self):\n",
    "        self.ms = 1\n",
    "        self.s = 10\n",
    "        self.mv = 1\n",
    "        self.v = 10\n",
    "        self.m_omega = 1\n",
    "        self.pf = 1\n",
    "\n",
    "class LIF_Neuron:\n",
    "    \"\"\"\n",
    "    u(t) = u_rest + membrane_resistance * stimulate_current * ( 1 - e ^ ( -t / membrane_resistance * membrane_capacity ))\n",
    "    \"\"\"\n",
    "    def __init__(self):\n",
    "        unit = Unit()\n",
    "        self.rest_potential = -70 * unit.mv\n",
    "        self.membrane_potential = self.rest_potential\n",
    "        self.membrane_resistance = 200 * unit.m_omega\n",
    "        self.membrane_capacity = 80 * unit.pf\n",
    "        self.spike_threshold = -50 * unit.mv\n",
    "        self.spike_time = 5 * unit.ms\n",
    "        self.stimulate_period = 8 * unit.ms\n",
    "        self.neuron_status = 0\n",
    "        self.stimulate_potential = []\n",
    "    \n",
    "    def is_spike(self):\n",
    "        if self.membrane_potential >= self.spike_threshold:\n",
    "            self.neuron_status = 2\n",
    "        elif self.membrane_potential > self.rest_potential:\n",
    "            self.neuron_status = 1\n",
    "        elif self.membrane_potential == self.rest_potential:\n",
    "            self.neuron_status = 0\n",
    "        else:\n",
    "            self.neuron_status = -1\n",
    "    \n",
    "    def stimulate_neuron(self, stimulate_input, stimulate_time):\n",
    "        stimulate_current = np.array([])\n",
    "        stimulate_current = stimulate_input\n",
    "        while(stimulate_current.size != 0):\n",
    "            signal = 1\n",
    "            for signal in range(1, self.spike_time):\n",
    "                self.stimulate_potential.append(self.rest_potential + self.membrane_resistance * stimulate_current[signal] * ( 1 - math.e ^ ( -1 * stimulate_time ) / ( self.membrane_resistance * self.memberane_capacity )))\n",
    "                break\n",
    "        print(\"Stimulate current is empty!!!\")\n",
    "            \n",
    "    def neuron_period(self, stimulate_input, stimulate_time):\n",
    "        self.stimulate_neuron(stimulate_input, stimulate_time)\n",
    "        self.is_spike()\n",
    "        \n",
    "if __name__ == \"__main__\":\n",
    "    time = np.full((1, 20), 1, dtype = int)\n",
    "    current = np.full((1, 20), 3, dtype = int)\n",
    "    lif_neuron = LIF_Neuron()\n",
    "    lif_neuron.stimulate_neuron(current, time)\n",
    "        \n",
    "        "
   ]
  },
  {
   "cell_type": "code",
   "execution_count": null,
   "metadata": {},
   "outputs": [],
   "source": []
  }
 ],
 "metadata": {
  "kernelspec": {
   "display_name": "Python 3",
   "language": "python",
   "name": "python3"
  },
  "language_info": {
   "codemirror_mode": {
    "name": "ipython",
    "version": 3
   },
   "file_extension": ".py",
   "mimetype": "text/x-python",
   "name": "python",
   "nbconvert_exporter": "python",
   "pygments_lexer": "ipython3",
   "version": "3.7.1"
  }
 },
 "nbformat": 4,
 "nbformat_minor": 2
}
